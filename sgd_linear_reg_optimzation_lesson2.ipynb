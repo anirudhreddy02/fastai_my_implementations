{
  "nbformat": 4,
  "nbformat_minor": 0,
  "metadata": {
    "colab": {
      "name": "sgd_linear_reg_optimzation_lesson2.ipynb",
      "provenance": [],
      "collapsed_sections": [],
      "authorship_tag": "ABX9TyPc2fYqCKVHJLdbsYtlRhdV",
      "include_colab_link": true
    },
    "kernelspec": {
      "name": "python3",
      "display_name": "Python 3"
    },
    "accelerator": "GPU"
  },
  "cells": [
    {
      "cell_type": "markdown",
      "metadata": {
        "id": "view-in-github",
        "colab_type": "text"
      },
      "source": [
        "<a href=\"https://colab.research.google.com/github/anirudhreddy02/fastai_my_implementations/blob/master/sgd_linear_reg_optimzation_lesson2.ipynb\" target=\"_parent\"><img src=\"https://colab.research.google.com/assets/colab-badge.svg\" alt=\"Open In Colab\"/></a>"
      ]
    },
    {
      "cell_type": "code",
      "metadata": {
        "id": "XFldQehMyQPw",
        "colab_type": "code",
        "outputId": "e2e11272-5120-437f-b2c8-beabb55f5c19",
        "colab": {
          "base_uri": "https://localhost:8080/",
          "height": 54
        }
      },
      "source": [
        "#!pip install \"torch==1.4\" \"torchvision==0.5.0\"\n",
        "!curl -s https://course.fast.ai/setup/colab | bash"
      ],
      "execution_count": 0,
      "outputs": [
        {
          "output_type": "stream",
          "text": [
            "Updating fastai...\n",
            "Done.\n"
          ],
          "name": "stdout"
        }
      ]
    },
    {
      "cell_type": "code",
      "metadata": {
        "id": "JEyU9H1Lwre4",
        "colab_type": "code",
        "colab": {}
      },
      "source": [
        "%matplotlib inline\n",
        "%reload_ext autoreload\n",
        "%autoreload 2\n"
      ],
      "execution_count": 0,
      "outputs": []
    },
    {
      "cell_type": "code",
      "metadata": {
        "id": "LBXgcGcrzgx1",
        "colab_type": "code",
        "colab": {}
      },
      "source": [
        "from fastai.basics import *\n",
        " "
      ],
      "execution_count": 0,
      "outputs": []
    },
    {
      "cell_type": "code",
      "metadata": {
        "id": "CBZupFBnzual",
        "colab_type": "code",
        "outputId": "edb13495-53b4-49e5-dbca-ba7096f16e3c",
        "colab": {
          "base_uri": "https://localhost:8080/",
          "height": 109
        }
      },
      "source": [
        "n =100\n",
        "x = torch.ones(n,2)\n",
        "x[:,0].uniform_(-1,1)\n",
        "x[0:5],x.ndim,x.is_cuda"
      ],
      "execution_count": 0,
      "outputs": [
        {
          "output_type": "execute_result",
          "data": {
            "text/plain": [
              "(tensor([[-0.8612,  1.0000],\n",
              "         [-0.6018,  1.0000],\n",
              "         [-0.8510,  1.0000],\n",
              "         [ 0.8154,  1.0000],\n",
              "         [ 0.5447,  1.0000]]), 2, False)"
            ]
          },
          "metadata": {
            "tags": []
          },
          "execution_count": 4
        }
      ]
    },
    {
      "cell_type": "code",
      "metadata": {
        "id": "GdHug2Nj4UCC",
        "colab_type": "code",
        "outputId": "f8ae32e7-85e1-4f83-b271-429d36c657ff",
        "colab": {
          "base_uri": "https://localhost:8080/",
          "height": 35
        }
      },
      "source": [
        "a = tensor(3.,2)\n",
        "a"
      ],
      "execution_count": 0,
      "outputs": [
        {
          "output_type": "execute_result",
          "data": {
            "text/plain": [
              "tensor([3., 2.])"
            ]
          },
          "metadata": {
            "tags": []
          },
          "execution_count": 5
        }
      ]
    },
    {
      "cell_type": "code",
      "metadata": {
        "id": "RU4MTMLOoipX",
        "colab_type": "code",
        "colab": {}
      },
      "source": [
        "y = x@a + torch.rand(n)"
      ],
      "execution_count": 0,
      "outputs": []
    },
    {
      "cell_type": "code",
      "metadata": {
        "id": "ZlPFVmrb000S",
        "colab_type": "code",
        "outputId": "65384528-4801-43f6-c8f9-a49beee30fcc",
        "colab": {
          "base_uri": "https://localhost:8080/",
          "height": 285
        }
      },
      "source": [
        "plt.scatter(x[:,0],y)"
      ],
      "execution_count": 0,
      "outputs": [
        {
          "output_type": "execute_result",
          "data": {
            "text/plain": [
              "<matplotlib.collections.PathCollection at 0x7faeccb75668>"
            ]
          },
          "metadata": {
            "tags": []
          },
          "execution_count": 7
        },
        {
          "output_type": "display_data",
          "data": {
            "image/png": "[encoded data removed]",
            "text/plain": [
              "<Figure size 432x288 with 1 Axes>"
            ]
          },
          "metadata": {
            "tags": [],
            "needs_background": "light"
          }
        }
      ]
    },
    {
      "cell_type": "code",
      "metadata": {
        "id": "cGtCDN8uME_q",
        "colab_type": "code",
        "colab": {}
      },
      "source": [
        "def mse(y_hat,y):\n",
        "  return ((y_hat-y)**2).mean()"
      ],
      "execution_count": 0,
      "outputs": []
    },
    {
      "cell_type": "code",
      "metadata": {
        "id": "KE4mBK96Yn7u",
        "colab_type": "code",
        "outputId": "7428f229-b001-4512-8379-26357d856b4b",
        "colab": {
          "base_uri": "https://localhost:8080/",
          "height": 285
        }
      },
      "source": [
        "a = tensor(-1.0,1)\n",
        "y_hat = x@a\n",
        "plt.scatter(x[:,0],y)\n",
        "plt.scatter(x[:,0],y_hat)\n"
      ],
      "execution_count": 0,
      "outputs": [
        {
          "output_type": "execute_result",
          "data": {
            "text/plain": [
              "<matplotlib.collections.PathCollection at 0x7faec98e4b00>"
            ]
          },
          "metadata": {
            "tags": []
          },
          "execution_count": 10
        },
        {
          "output_type": "display_data",
          "data": {
            "image/png": "[encoded data removed]",
            "text/plain": [
              "<Figure size 432x288 with 1 Axes>"
            ]
          },
          "metadata": {
            "tags": [],
            "needs_background": "light"
          }
        }
      ]
    },
    {
      "cell_type": "code",
      "metadata": {
        "id": "gI3jtZ1DZ7HL",
        "colab_type": "code",
        "outputId": "638dc61e-8889-4518-a317-9a31cfb916ef",
        "colab": {
          "base_uri": "https://localhost:8080/",
          "height": 35
        }
      },
      "source": [
        "mse(y_hat,y)"
      ],
      "execution_count": 0,
      "outputs": [
        {
          "output_type": "execute_result",
          "data": {
            "text/plain": [
              "tensor(8.1632)"
            ]
          },
          "metadata": {
            "tags": []
          },
          "execution_count": 11
        }
      ]
    },
    {
      "cell_type": "code",
      "metadata": {
        "id": "BuscQ2rsatcX",
        "colab_type": "code",
        "outputId": "09b5afd6-6a21-4c54-efbf-07ed27b942de",
        "colab": {
          "base_uri": "https://localhost:8080/",
          "height": 54
        }
      },
      "source": [
        "a = nn.Parameter(a)\n",
        "a"
      ],
      "execution_count": 0,
      "outputs": [
        {
          "output_type": "execute_result",
          "data": {
            "text/plain": [
              "Parameter containing:\n",
              "tensor([-1.,  1.], requires_grad=True)"
            ]
          },
          "metadata": {
            "tags": []
          },
          "execution_count": 14
        }
      ]
    },
    {
      "cell_type": "code",
      "metadata": {
        "id": "Orgyyd5uctnq",
        "colab_type": "code",
        "colab": {}
      },
      "source": [
        "def update():\n",
        "  y_hat = x@a\n",
        "  loss = mse(y_hat,y)\n",
        "  if t % 10 == 0: print(loss)\n",
        "  loss.backward()\n",
        "  with torch.no_grad():\n",
        "     a.sub_(lr * a.grad)\n",
        "     a.grad.zero_()"
      ],
      "execution_count": 0,
      "outputs": []
    },
    {
      "cell_type": "code",
      "metadata": {
        "id": "madITj7kdlzl",
        "colab_type": "code",
        "outputId": "320a4ebe-5e7b-4b33-ea3b-c012f3f818ea",
        "colab": {
          "base_uri": "https://localhost:8080/",
          "height": 202
        }
      },
      "source": [
        "lr = 1e-1\n",
        "for t in range(100): update()"
      ],
      "execution_count": 0,
      "outputs": [
        {
          "output_type": "stream",
          "text": [
            "tensor(8.1632, grad_fn=<MeanBackward0>)\n",
            "tensor(1.2687, grad_fn=<MeanBackward0>)\n",
            "tensor(0.3570, grad_fn=<MeanBackward0>)\n",
            "tensor(0.1531, grad_fn=<MeanBackward0>)\n",
            "tensor(0.1069, grad_fn=<MeanBackward0>)\n",
            "tensor(0.0965, grad_fn=<MeanBackward0>)\n",
            "tensor(0.0941, grad_fn=<MeanBackward0>)\n",
            "tensor(0.0936, grad_fn=<MeanBackward0>)\n",
            "tensor(0.0934, grad_fn=<MeanBackward0>)\n",
            "tensor(0.0934, grad_fn=<MeanBackward0>)\n"
          ],
          "name": "stdout"
        }
      ]
    },
    {
      "cell_type": "code",
      "metadata": {
        "id": "uXZN2bdSeLTA",
        "colab_type": "code",
        "outputId": "ef5ef023-b81c-4d5d-c145-041596a6e3e8",
        "colab": {
          "base_uri": "https://localhost:8080/",
          "height": 267
        }
      },
      "source": [
        "plt.scatter(x[:,0],y)\n",
        "with torch.no_grad():\n",
        "  plt.scatter(x[:,0],x@a)"
      ],
      "execution_count": 0,
      "outputs": [
        {
          "output_type": "display_data",
          "data": {
            "image/png": "[encoded data removed]",
            "text/plain": [
              "<Figure size 432x288 with 1 Axes>"
            ]
          },
          "metadata": {
            "tags": [],
            "needs_background": "light"
          }
        }
      ]
    },
    {
      "cell_type": "code",
      "metadata": {
        "id": "bE_W5NQ8e0Ui",
        "colab_type": "code",
        "outputId": "54506dd7-ffdf-4b7a-d636-d560d6aea01f",
        "colab": {
          "base_uri": "https://localhost:8080/",
          "height": 54
        }
      },
      "source": [
        "a"
      ],
      "execution_count": 0,
      "outputs": [
        {
          "output_type": "execute_result",
          "data": {
            "text/plain": [
              "Parameter containing:\n",
              "tensor([3.0815, 2.4837], requires_grad=True)"
            ]
          },
          "metadata": {
            "tags": []
          },
          "execution_count": 21
        }
      ]
    }
  ]
}